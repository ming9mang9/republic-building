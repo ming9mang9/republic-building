{
 "cells": [
  {
   "cell_type": "code",
   "execution_count": 1,
   "metadata": {},
   "outputs": [],
   "source": [
    "# 기본 라이브러리 세팅\n",
    "import warnings\n",
    "warnings.filterwarnings(\"ignore\")\n",
    "import pandas as pd\n",
    "import numpy as np\n",
    "import matplotlib\n",
    "import matplotlib.pyplot as plt\n",
    "from matplotlib import font_manager, rc\n",
    "matplotlib.rcParams['font.family'].insert(0, 'Noto Sans KR')\n",
    "\n",
    "matplotlib.rcParams.update({'font.size': 16})\n",
    "\n",
    "from datetime import datetime\n",
    "import re\n",
    "\n",
    "from tqdm import tqdm, tqdm_notebook"
   ]
  },
  {
   "cell_type": "code",
   "execution_count": null,
   "metadata": {},
   "outputs": [],
   "source": []
  },
  {
   "cell_type": "code",
   "execution_count": 2,
   "metadata": {},
   "outputs": [],
   "source": [
    "공공건축물현황 = pd.read_csv(\"C:/Users/ming/Desktop/2020_new/7월/공공건축물/전국 지역별 공공건축물 현황_v1.0.csv\", encoding = 'euc-kr', engine = 'python' ,sep = ',')"
   ]
  },
  {
   "cell_type": "code",
   "execution_count": 3,
   "metadata": {
    "scrolled": true
   },
   "outputs": [
    {
     "data": {
      "text/plain": [
       "89717"
      ]
     },
     "execution_count": 3,
     "metadata": {},
     "output_type": "execute_result"
    }
   ],
   "source": [
    "len(공공건축물현황)"
   ]
  },
  {
   "cell_type": "code",
   "execution_count": 5,
   "metadata": {},
   "outputs": [],
   "source": [
    "공건 = 공공건축물현황"
   ]
  },
  {
   "cell_type": "code",
   "execution_count": 61,
   "metadata": {},
   "outputs": [],
   "source": [
    "공건500 = 공건[공건[\"연면적(㎡)\"]< 500 ]"
   ]
  },
  {
   "cell_type": "code",
   "execution_count": 62,
   "metadata": {},
   "outputs": [
    {
     "data": {
      "text/plain": [
       "47414"
      ]
     },
     "execution_count": 62,
     "metadata": {},
     "output_type": "execute_result"
    }
   ],
   "source": [
    "len(공건500)"
   ]
  },
  {
   "cell_type": "code",
   "execution_count": 63,
   "metadata": {
    "scrolled": false
   },
   "outputs": [
    {
     "data": {
      "text/plain": [
       "경상북도       6070\n",
       "경기도        5653\n",
       "경상남도       5529\n",
       "전라남도       4579\n",
       "강원도        4284\n",
       "서울특별시      3876\n",
       "전라북도       3727\n",
       "충청남도       3637\n",
       "충청북도       2530\n",
       "인천광역시      1661\n",
       "부산광역시      1439\n",
       "제주특별자치도    1062\n",
       "대구광역시      1011\n",
       "울산광역시       961\n",
       "대전광역시       643\n",
       "광주광역시       538\n",
       "세종특별자치시     213\n",
       "              1\n",
       "Name: 시도, dtype: int64"
      ]
     },
     "execution_count": 63,
     "metadata": {},
     "output_type": "execute_result"
    }
   ],
   "source": [
    "pd.value_counts(공건500[\"시도\"])"
   ]
  },
  {
   "cell_type": "code",
   "execution_count": 64,
   "metadata": {},
   "outputs": [
    {
     "data": {
      "text/html": [
       "<div>\n",
       "<style scoped>\n",
       "    .dataframe tbody tr th:only-of-type {\n",
       "        vertical-align: middle;\n",
       "    }\n",
       "\n",
       "    .dataframe tbody tr th {\n",
       "        vertical-align: top;\n",
       "    }\n",
       "\n",
       "    .dataframe thead th {\n",
       "        text-align: right;\n",
       "    }\n",
       "</style>\n",
       "<table border=\"1\" class=\"dataframe\">\n",
       "  <thead>\n",
       "    <tr style=\"text-align: right;\">\n",
       "      <th></th>\n",
       "      <th>시도</th>\n",
       "      <th>시군구</th>\n",
       "      <th>법정동</th>\n",
       "      <th>번</th>\n",
       "      <th>지</th>\n",
       "      <th>건물명</th>\n",
       "      <th>대지위치</th>\n",
       "      <th>대지면적(㎡)</th>\n",
       "      <th>건축면적(㎡)</th>\n",
       "      <th>연면적(㎡)</th>\n",
       "      <th>동명칭</th>\n",
       "      <th>주용도</th>\n",
       "      <th>대표용도</th>\n",
       "      <th>기타용도</th>\n",
       "      <th>허가일</th>\n",
       "      <th>착공일</th>\n",
       "      <th>사용승인일</th>\n",
       "      <th>사용승인연도</th>\n",
       "    </tr>\n",
       "  </thead>\n",
       "  <tbody>\n",
       "    <tr>\n",
       "      <td>10</td>\n",
       "      <td>서울특별시</td>\n",
       "      <td>종로구</td>\n",
       "      <td>신교동</td>\n",
       "      <td>1</td>\n",
       "      <td>4</td>\n",
       "      <td>서울맹학교</td>\n",
       "      <td>서울특별시 종로구 필운대로 97 (신교동)</td>\n",
       "      <td>10184</td>\n",
       "      <td>73</td>\n",
       "      <td>141</td>\n",
       "      <td>NaN</td>\n",
       "      <td>교육연구시설</td>\n",
       "      <td>초등학교</td>\n",
       "      <td>교육연구시설(사택)</td>\n",
       "      <td>NaN</td>\n",
       "      <td>19990716</td>\n",
       "      <td>19991119</td>\n",
       "      <td>1999</td>\n",
       "    </tr>\n",
       "    <tr>\n",
       "      <td>12</td>\n",
       "      <td>서울특별시</td>\n",
       "      <td>종로구</td>\n",
       "      <td>신교동</td>\n",
       "      <td>1</td>\n",
       "      <td>1</td>\n",
       "      <td>국립서울농학교</td>\n",
       "      <td>서울특별시 종로구 필운대로 103 (신교동)</td>\n",
       "      <td>0</td>\n",
       "      <td>0</td>\n",
       "      <td>138</td>\n",
       "      <td>생활관</td>\n",
       "      <td>교육연구및복지시설</td>\n",
       "      <td>초등학교</td>\n",
       "      <td>교사</td>\n",
       "      <td>NaN</td>\n",
       "      <td>NaN</td>\n",
       "      <td>NaN</td>\n",
       "      <td>NaN</td>\n",
       "    </tr>\n",
       "    <tr>\n",
       "      <td>16</td>\n",
       "      <td>서울특별시</td>\n",
       "      <td>종로구</td>\n",
       "      <td>무악동</td>\n",
       "      <td>45</td>\n",
       "      <td>61</td>\n",
       "      <td>NaN</td>\n",
       "      <td>서울특별시 종로구 통일로 246-1 (무악동)</td>\n",
       "      <td>0</td>\n",
       "      <td>0</td>\n",
       "      <td>185</td>\n",
       "      <td>NaN</td>\n",
       "      <td>제2종근린생활시설</td>\n",
       "      <td>기타공공시설</td>\n",
       "      <td>제2종근린생활시설</td>\n",
       "      <td>NaN</td>\n",
       "      <td>NaN</td>\n",
       "      <td>19810530</td>\n",
       "      <td>1981</td>\n",
       "    </tr>\n",
       "    <tr>\n",
       "      <td>17</td>\n",
       "      <td>서울특별시</td>\n",
       "      <td>종로구</td>\n",
       "      <td>종로5가</td>\n",
       "      <td>138</td>\n",
       "      <td>1</td>\n",
       "      <td>종로5가파출소</td>\n",
       "      <td>서울특별시 종로구 동호로 407 (종로5가)</td>\n",
       "      <td>0</td>\n",
       "      <td>0</td>\n",
       "      <td>204</td>\n",
       "      <td>NaN</td>\n",
       "      <td>제1종근린생활시설</td>\n",
       "      <td>파출소</td>\n",
       "      <td>종로5가파출소</td>\n",
       "      <td>NaN</td>\n",
       "      <td>NaN</td>\n",
       "      <td>19841200</td>\n",
       "      <td>1984</td>\n",
       "    </tr>\n",
       "    <tr>\n",
       "      <td>34</td>\n",
       "      <td>서울특별시</td>\n",
       "      <td>종로구</td>\n",
       "      <td>홍지동</td>\n",
       "      <td>95</td>\n",
       "      <td>1</td>\n",
       "      <td>서대문경찰서 세검정지구대</td>\n",
       "      <td>서울특별시 종로구 세검정로 226 (홍지동)</td>\n",
       "      <td>181</td>\n",
       "      <td>66</td>\n",
       "      <td>243</td>\n",
       "      <td>본동</td>\n",
       "      <td>제1종근린생활시설</td>\n",
       "      <td>파출소</td>\n",
       "      <td>제1종근린생활시설</td>\n",
       "      <td>19880819</td>\n",
       "      <td>NaN</td>\n",
       "      <td>19881223</td>\n",
       "      <td>1988</td>\n",
       "    </tr>\n",
       "    <tr>\n",
       "      <td>...</td>\n",
       "      <td>...</td>\n",
       "      <td>...</td>\n",
       "      <td>...</td>\n",
       "      <td>...</td>\n",
       "      <td>...</td>\n",
       "      <td>...</td>\n",
       "      <td>...</td>\n",
       "      <td>...</td>\n",
       "      <td>...</td>\n",
       "      <td>...</td>\n",
       "      <td>...</td>\n",
       "      <td>...</td>\n",
       "      <td>...</td>\n",
       "      <td>...</td>\n",
       "      <td>...</td>\n",
       "      <td>...</td>\n",
       "      <td>...</td>\n",
       "      <td>...</td>\n",
       "    </tr>\n",
       "    <tr>\n",
       "      <td>89697</td>\n",
       "      <td>경상북도</td>\n",
       "      <td>경산시</td>\n",
       "      <td>용성면 당리리</td>\n",
       "      <td>67</td>\n",
       "      <td>2</td>\n",
       "      <td>NaN</td>\n",
       "      <td>경상북도 경산시 용성당리1길 22 (용성면)</td>\n",
       "      <td>837</td>\n",
       "      <td>189</td>\n",
       "      <td>325</td>\n",
       "      <td>NaN</td>\n",
       "      <td>제1종근린생활시설</td>\n",
       "      <td>소방서</td>\n",
       "      <td>근린공공시설</td>\n",
       "      <td>19970923</td>\n",
       "      <td>19970930</td>\n",
       "      <td>19971230</td>\n",
       "      <td>1997</td>\n",
       "    </tr>\n",
       "    <tr>\n",
       "      <td>89700</td>\n",
       "      <td>경상남도</td>\n",
       "      <td>창원시 마산회원구</td>\n",
       "      <td>양덕동</td>\n",
       "      <td>906</td>\n",
       "      <td>7</td>\n",
       "      <td>소방서</td>\n",
       "      <td>경상남도 창원시 마산회원구 양덕옛1길 62 (양덕동)</td>\n",
       "      <td>331</td>\n",
       "      <td>220</td>\n",
       "      <td>389</td>\n",
       "      <td>NaN</td>\n",
       "      <td>제1종근린생활시설</td>\n",
       "      <td>소방서</td>\n",
       "      <td>근린공공시설(소방서)</td>\n",
       "      <td>19950602</td>\n",
       "      <td>19950802</td>\n",
       "      <td>19951102</td>\n",
       "      <td>1995</td>\n",
       "    </tr>\n",
       "    <tr>\n",
       "      <td>89703</td>\n",
       "      <td>경상남도</td>\n",
       "      <td>사천시</td>\n",
       "      <td>곤명면 정곡리</td>\n",
       "      <td>857</td>\n",
       "      <td>3</td>\n",
       "      <td>NaN</td>\n",
       "      <td>경상남도 사천시 경서대로 3421 (곤명면)</td>\n",
       "      <td>1017</td>\n",
       "      <td>173</td>\n",
       "      <td>314</td>\n",
       "      <td>NaN</td>\n",
       "      <td>제1종근린생활시설</td>\n",
       "      <td>우체국</td>\n",
       "      <td>제1종근린생활시설</td>\n",
       "      <td>19960906</td>\n",
       "      <td>NaN</td>\n",
       "      <td>19970312</td>\n",
       "      <td>1997</td>\n",
       "    </tr>\n",
       "    <tr>\n",
       "      <td>89704</td>\n",
       "      <td>경상남도</td>\n",
       "      <td>사천시</td>\n",
       "      <td>축동면 배춘리</td>\n",
       "      <td>769</td>\n",
       "      <td>0</td>\n",
       "      <td>NaN</td>\n",
       "      <td>경상남도 사천시 길평길 37 (축동면)</td>\n",
       "      <td>697</td>\n",
       "      <td>202</td>\n",
       "      <td>381</td>\n",
       "      <td>NaN</td>\n",
       "      <td>제1종근린생활시설</td>\n",
       "      <td>우체국</td>\n",
       "      <td>근린공공시설, 주택(관사)</td>\n",
       "      <td>19931018</td>\n",
       "      <td>19931104</td>\n",
       "      <td>19940806</td>\n",
       "      <td>1994</td>\n",
       "    </tr>\n",
       "    <tr>\n",
       "      <td>89707</td>\n",
       "      <td>경상남도</td>\n",
       "      <td>함안군</td>\n",
       "      <td>칠서면 용성리</td>\n",
       "      <td>865</td>\n",
       "      <td>1</td>\n",
       "      <td>NaN</td>\n",
       "      <td>경상남도 함안군 삼칠로 1213 (칠서면)</td>\n",
       "      <td>0</td>\n",
       "      <td>48</td>\n",
       "      <td>48</td>\n",
       "      <td>다동</td>\n",
       "      <td>의료시설</td>\n",
       "      <td>종합병원</td>\n",
       "      <td>의료시설</td>\n",
       "      <td>20120210</td>\n",
       "      <td>20120213</td>\n",
       "      <td>20120911</td>\n",
       "      <td>2012</td>\n",
       "    </tr>\n",
       "  </tbody>\n",
       "</table>\n",
       "<p>22907 rows × 18 columns</p>\n",
       "</div>"
      ],
      "text/plain": [
       "          시도        시군구      법정동    번   지            건물명  \\\n",
       "10     서울특별시        종로구      신교동    1   4          서울맹학교   \n",
       "12     서울특별시        종로구      신교동    1   1        국립서울농학교   \n",
       "16     서울특별시        종로구      무악동   45  61            NaN   \n",
       "17     서울특별시        종로구     종로5가  138   1        종로5가파출소   \n",
       "34     서울특별시        종로구      홍지동   95   1  서대문경찰서 세검정지구대   \n",
       "...      ...        ...      ...  ...  ..            ...   \n",
       "89697   경상북도        경산시  용성면 당리리   67   2            NaN   \n",
       "89700   경상남도  창원시 마산회원구      양덕동  906   7            소방서   \n",
       "89703   경상남도        사천시  곤명면 정곡리  857   3            NaN   \n",
       "89704   경상남도        사천시  축동면 배춘리  769   0            NaN   \n",
       "89707   경상남도        함안군  칠서면 용성리  865   1            NaN   \n",
       "\n",
       "                                대지위치  대지면적(㎡)  건축면적(㎡)  연면적(㎡)  동명칭  \\\n",
       "10           서울특별시 종로구 필운대로 97 (신교동)    10184       73     141  NaN   \n",
       "12          서울특별시 종로구 필운대로 103 (신교동)        0        0     138  생활관   \n",
       "16         서울특별시 종로구 통일로 246-1 (무악동)        0        0     185  NaN   \n",
       "17          서울특별시 종로구 동호로 407 (종로5가)        0        0     204  NaN   \n",
       "34          서울특별시 종로구 세검정로 226 (홍지동)      181       66     243   본동   \n",
       "...                              ...      ...      ...     ...  ...   \n",
       "89697       경상북도 경산시 용성당리1길 22 (용성면)      837      189     325  NaN   \n",
       "89700  경상남도 창원시 마산회원구 양덕옛1길 62 (양덕동)      331      220     389  NaN   \n",
       "89703       경상남도 사천시 경서대로 3421 (곤명면)     1017      173     314  NaN   \n",
       "89704          경상남도 사천시 길평길 37 (축동면)      697      202     381  NaN   \n",
       "89707        경상남도 함안군 삼칠로 1213 (칠서면)        0       48      48   다동   \n",
       "\n",
       "             주용도    대표용도            기타용도       허가일       착공일     사용승인일 사용승인연도  \n",
       "10        교육연구시설    초등학교      교육연구시설(사택)       NaN  19990716  19991119   1999  \n",
       "12     교육연구및복지시설    초등학교              교사       NaN       NaN       NaN    NaN  \n",
       "16     제2종근린생활시설  기타공공시설       제2종근린생활시설       NaN       NaN  19810530   1981  \n",
       "17     제1종근린생활시설     파출소         종로5가파출소       NaN       NaN  19841200   1984  \n",
       "34     제1종근린생활시설     파출소       제1종근린생활시설  19880819       NaN  19881223   1988  \n",
       "...          ...     ...             ...       ...       ...       ...    ...  \n",
       "89697  제1종근린생활시설     소방서          근린공공시설  19970923  19970930  19971230   1997  \n",
       "89700  제1종근린생활시설     소방서     근린공공시설(소방서)  19950602  19950802  19951102   1995  \n",
       "89703  제1종근린생활시설     우체국       제1종근린생활시설  19960906       NaN  19970312   1997  \n",
       "89704  제1종근린생활시설     우체국  근린공공시설, 주택(관사)  19931018  19931104  19940806   1994  \n",
       "89707       의료시설    종합병원            의료시설  20120210  20120213  20120911   2012  \n",
       "\n",
       "[22907 rows x 18 columns]"
      ]
     },
     "execution_count": 64,
     "metadata": {},
     "output_type": "execute_result"
    }
   ],
   "source": [
    "공건500.drop_duplicates(\"대지위치\", keep = False)"
   ]
  },
  {
   "cell_type": "code",
   "execution_count": null,
   "metadata": {},
   "outputs": [],
   "source": []
  },
  {
   "cell_type": "code",
   "execution_count": 6,
   "metadata": {},
   "outputs": [],
   "source": [
    "공건중복제거 = 공건.drop_duplicates(\"대지위치\", keep = False)"
   ]
  },
  {
   "cell_type": "code",
   "execution_count": null,
   "metadata": {},
   "outputs": [],
   "source": []
  },
  {
   "cell_type": "code",
   "execution_count": 67,
   "metadata": {},
   "outputs": [],
   "source": [
    "공건제거500 = 공건중복제거[공건중복제거[\"연면적(㎡)\"]< 500 ]"
   ]
  },
  {
   "cell_type": "code",
   "execution_count": 72,
   "metadata": {},
   "outputs": [],
   "source": [
    "공건제거500.to_excel(\"C:/Users/ming/Desktop/2020_new/7월/공공건축물/중복제거후500이하.xlsx\",encoding = \"utf-8\")"
   ]
  },
  {
   "cell_type": "code",
   "execution_count": 69,
   "metadata": {},
   "outputs": [
    {
     "data": {
      "text/plain": [
       "경상남도       3165\n",
       "서울특별시      2864\n",
       "경상북도       2863\n",
       "전라남도       1900\n",
       "경기도        1809\n",
       "전라북도       1657\n",
       "강원도        1289\n",
       "충청남도       1212\n",
       "충청북도        876\n",
       "부산광역시       675\n",
       "인천광역시       615\n",
       "대구광역시       439\n",
       "제주특별자치도     329\n",
       "울산광역시       296\n",
       "광주광역시       275\n",
       "대전광역시       203\n",
       "세종특별자치시      59\n",
       "Name: 시도, dtype: int64"
      ]
     },
     "execution_count": 69,
     "metadata": {},
     "output_type": "execute_result"
    }
   ],
   "source": [
    "pd.value_counts(공건제거500[\"시도\"])"
   ]
  },
  {
   "cell_type": "code",
   "execution_count": 71,
   "metadata": {},
   "outputs": [
    {
     "data": {
      "text/plain": [
       "제1종근린생활시설     17134\n",
       "자원순환관련시설       1121\n",
       "단독주택            546\n",
       "교육연구시설          546\n",
       "업무시설            321\n",
       "문화및집회시설         221\n",
       "제2종근린생활시설       173\n",
       "근린생활시설          125\n",
       "교육연구및복지시설        74\n",
       "묘지관련시설           53\n",
       "공장               25\n",
       "수련시설             20\n",
       "관광휴게시설           19\n",
       "위험물저장및처리시설       18\n",
       "의료시설             15\n",
       "노유자시설             9\n",
       "창고시설              9\n",
       "공공용시설             8\n",
       "위락시설              5\n",
       "분뇨.쓰레기처리시설        5\n",
       "공동주택              4\n",
       "우체국               4\n",
       "파출소               4\n",
       "교정및군사시설           3\n",
       "동.식물관련시설          3\n",
       "자동차관련시설           2\n",
       "판매및영업시설           2\n",
       "동사무소              2\n",
       "방송통신시설            2\n",
       "공공업무시설            1\n",
       "발전시설              1\n",
       "숙박시설              1\n",
       "공공시설              1\n",
       "Name: 주용도, dtype: int64"
      ]
     },
     "execution_count": 71,
     "metadata": {},
     "output_type": "execute_result"
    }
   ],
   "source": [
    "pd.value_counts(공건제거500[\"주용도\"])"
   ]
  },
  {
   "cell_type": "code",
   "execution_count": 78,
   "metadata": {},
   "outputs": [],
   "source": [
    "공건승인제거500 = 공건제거500[공건제거500[\"사용승인연도\"].notnull()]"
   ]
  },
  {
   "cell_type": "code",
   "execution_count": 79,
   "metadata": {},
   "outputs": [],
   "source": [
    "공건승인제거500.to_excel(\"C:/Users/ming/Desktop/2020_new/7월/공공건축물/중복승인연도제거500이하.xlsx\",encoding = \"utf-8\") "
   ]
  }
 ],
 "metadata": {
  "kernelspec": {
   "display_name": "Python 3",
   "language": "python",
   "name": "python3"
  },
  "language_info": {
   "codemirror_mode": {
    "name": "ipython",
    "version": 3
   },
   "file_extension": ".py",
   "mimetype": "text/x-python",
   "name": "python",
   "nbconvert_exporter": "python",
   "pygments_lexer": "ipython3",
   "version": "3.7.4"
  }
 },
 "nbformat": 4,
 "nbformat_minor": 2
}
